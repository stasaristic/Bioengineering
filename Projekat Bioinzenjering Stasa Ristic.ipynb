{
 "cells": [
  {
   "cell_type": "code",
   "execution_count": 1,
   "id": "5c01b97d",
   "metadata": {},
   "outputs": [],
   "source": [
    "#!pip3 install pandas\n",
    "#!pip3 install seaborn\n",
    "#!pip3 install matplotlib\n",
    "#!pip3 install sklearn\n",
    "#!pip3 install numpy\n",
    "#!pip3 install warnings"
   ]
  },
  {
   "cell_type": "markdown",
   "id": "367a65f9",
   "metadata": {},
   "source": [
    "# Covid patients number prediction\n",
    "\n",
    "## Importing Dependencies"
   ]
  },
  {
   "cell_type": "code",
   "execution_count": 2,
   "id": "ef8e4dd3",
   "metadata": {},
   "outputs": [],
   "source": [
    "import pandas as pd\n",
    "import numpy as np\n",
    "import seaborn as sns\n",
    "import matplotlib.pyplot as plt\n",
    "import tensorflow as tf\n",
    "from sklearn.model_selection import train_test_split\n",
    "import warnings\n",
    "warnings.filterwarnings('ignore')\n",
    "\n",
    "np.set_printoptions(suppress=True)\n",
    "\n",
    "from tensorflow.keras.models import Sequential\n",
    "from tensorflow.keras.layers import Dense\n",
    "from tensorflow.keras.layers import LSTM\n",
    "from sklearn.preprocessing import MinMaxScaler\n",
    "from sklearn.metrics import mean_squared_error\n",
    "from math import sqrt"
   ]
  },
  {
   "cell_type": "code",
   "execution_count": 3,
   "id": "453d5f9b",
   "metadata": {
    "scrolled": true
   },
   "outputs": [
    {
     "data": {
      "text/html": [
       "<div>\n",
       "<style scoped>\n",
       "    .dataframe tbody tr th:only-of-type {\n",
       "        vertical-align: middle;\n",
       "    }\n",
       "\n",
       "    .dataframe tbody tr th {\n",
       "        vertical-align: top;\n",
       "    }\n",
       "\n",
       "    .dataframe thead th {\n",
       "        text-align: right;\n",
       "    }\n",
       "</style>\n",
       "<table border=\"1\" class=\"dataframe\">\n",
       "  <thead>\n",
       "    <tr style=\"text-align: right;\">\n",
       "      <th></th>\n",
       "      <th>TOTAL CASES</th>\n",
       "    </tr>\n",
       "    <tr>\n",
       "      <th>DATE</th>\n",
       "      <th></th>\n",
       "    </tr>\n",
       "  </thead>\n",
       "  <tbody>\n",
       "    <tr>\n",
       "      <th>2020-03-15</th>\n",
       "      <td>214</td>\n",
       "    </tr>\n",
       "    <tr>\n",
       "      <th>2020-03-16</th>\n",
       "      <td>387</td>\n",
       "    </tr>\n",
       "    <tr>\n",
       "      <th>2020-03-17</th>\n",
       "      <td>422</td>\n",
       "    </tr>\n",
       "    <tr>\n",
       "      <th>2020-03-18</th>\n",
       "      <td>534</td>\n",
       "    </tr>\n",
       "    <tr>\n",
       "      <th>2020-03-19</th>\n",
       "      <td>713</td>\n",
       "    </tr>\n",
       "  </tbody>\n",
       "</table>\n",
       "</div>"
      ],
      "text/plain": [
       "            TOTAL CASES\n",
       "DATE                   \n",
       "2020-03-15          214\n",
       "2020-03-16          387\n",
       "2020-03-17          422\n",
       "2020-03-18          534\n",
       "2020-03-19          713"
      ]
     },
     "execution_count": 3,
     "metadata": {},
     "output_type": "execute_result"
    }
   ],
   "source": [
    "data = pd.read_excel(\"Broj_zarazenih_Bioinzenjering_i_Bioinformatika.xlsx\")\n",
    "data['DATE'] = pd.to_datetime(data['DATE'])\n",
    "data.set_index('DATE',inplace=True)\n",
    "\n",
    "data.head()"
   ]
  },
  {
   "cell_type": "code",
   "execution_count": 4,
   "id": "23b00e6b",
   "metadata": {},
   "outputs": [
    {
     "data": {
      "text/html": [
       "<div>\n",
       "<style scoped>\n",
       "    .dataframe tbody tr th:only-of-type {\n",
       "        vertical-align: middle;\n",
       "    }\n",
       "\n",
       "    .dataframe tbody tr th {\n",
       "        vertical-align: top;\n",
       "    }\n",
       "\n",
       "    .dataframe thead th {\n",
       "        text-align: right;\n",
       "    }\n",
       "</style>\n",
       "<table border=\"1\" class=\"dataframe\">\n",
       "  <thead>\n",
       "    <tr style=\"text-align: right;\">\n",
       "      <th></th>\n",
       "      <th>TOTAL CASES</th>\n",
       "    </tr>\n",
       "    <tr>\n",
       "      <th>DATE</th>\n",
       "      <th></th>\n",
       "    </tr>\n",
       "  </thead>\n",
       "  <tbody>\n",
       "    <tr>\n",
       "      <th>2021-03-01</th>\n",
       "      <td>3243</td>\n",
       "    </tr>\n",
       "    <tr>\n",
       "      <th>2021-03-02</th>\n",
       "      <td>2774</td>\n",
       "    </tr>\n",
       "    <tr>\n",
       "      <th>2021-03-03</th>\n",
       "      <td>2771</td>\n",
       "    </tr>\n",
       "    <tr>\n",
       "      <th>2021-03-04</th>\n",
       "      <td>2705</td>\n",
       "    </tr>\n",
       "    <tr>\n",
       "      <th>2021-03-05</th>\n",
       "      <td>2749</td>\n",
       "    </tr>\n",
       "    <tr>\n",
       "      <th>2021-03-06</th>\n",
       "      <td>1524</td>\n",
       "    </tr>\n",
       "    <tr>\n",
       "      <th>2021-03-07</th>\n",
       "      <td>795</td>\n",
       "    </tr>\n",
       "    <tr>\n",
       "      <th>2021-03-08</th>\n",
       "      <td>3708</td>\n",
       "    </tr>\n",
       "    <tr>\n",
       "      <th>2021-03-09</th>\n",
       "      <td>3418</td>\n",
       "    </tr>\n",
       "    <tr>\n",
       "      <th>2021-03-10</th>\n",
       "      <td>3410</td>\n",
       "    </tr>\n",
       "    <tr>\n",
       "      <th>2021-03-11</th>\n",
       "      <td>3508</td>\n",
       "    </tr>\n",
       "    <tr>\n",
       "      <th>2021-03-12</th>\n",
       "      <td>3727</td>\n",
       "    </tr>\n",
       "    <tr>\n",
       "      <th>2021-03-13</th>\n",
       "      <td>2142</td>\n",
       "    </tr>\n",
       "    <tr>\n",
       "      <th>2021-03-14</th>\n",
       "      <td>1368</td>\n",
       "    </tr>\n",
       "    <tr>\n",
       "      <th>2021-03-15</th>\n",
       "      <td>2020</td>\n",
       "    </tr>\n",
       "  </tbody>\n",
       "</table>\n",
       "</div>"
      ],
      "text/plain": [
       "            TOTAL CASES\n",
       "DATE                   \n",
       "2021-03-01         3243\n",
       "2021-03-02         2774\n",
       "2021-03-03         2771\n",
       "2021-03-04         2705\n",
       "2021-03-05         2749\n",
       "2021-03-06         1524\n",
       "2021-03-07          795\n",
       "2021-03-08         3708\n",
       "2021-03-09         3418\n",
       "2021-03-10         3410\n",
       "2021-03-11         3508\n",
       "2021-03-12         3727\n",
       "2021-03-13         2142\n",
       "2021-03-14         1368\n",
       "2021-03-15         2020"
      ]
     },
     "execution_count": 4,
     "metadata": {},
     "output_type": "execute_result"
    }
   ],
   "source": [
    "data.tail(15)"
   ]
  },
  {
   "cell_type": "code",
   "execution_count": 5,
   "id": "a55719f4",
   "metadata": {},
   "outputs": [
    {
     "data": {
      "text/plain": [
       "(366, 1)"
      ]
     },
     "execution_count": 5,
     "metadata": {},
     "output_type": "execute_result"
    }
   ],
   "source": [
    "data.shape"
   ]
  },
  {
   "cell_type": "code",
   "execution_count": 6,
   "id": "bbd00412",
   "metadata": {},
   "outputs": [
    {
     "data": {
      "text/html": [
       "<div>\n",
       "<style scoped>\n",
       "    .dataframe tbody tr th:only-of-type {\n",
       "        vertical-align: middle;\n",
       "    }\n",
       "\n",
       "    .dataframe tbody tr th {\n",
       "        vertical-align: top;\n",
       "    }\n",
       "\n",
       "    .dataframe thead th {\n",
       "        text-align: right;\n",
       "    }\n",
       "</style>\n",
       "<table border=\"1\" class=\"dataframe\">\n",
       "  <thead>\n",
       "    <tr style=\"text-align: right;\">\n",
       "      <th></th>\n",
       "      <th>TOTAL CASES</th>\n",
       "    </tr>\n",
       "    <tr>\n",
       "      <th>DATE</th>\n",
       "      <th></th>\n",
       "    </tr>\n",
       "  </thead>\n",
       "  <tbody>\n",
       "    <tr>\n",
       "      <th>2020-03-15</th>\n",
       "      <td>1023</td>\n",
       "    </tr>\n",
       "    <tr>\n",
       "      <th>2020-03-18</th>\n",
       "      <td>1909</td>\n",
       "    </tr>\n",
       "    <tr>\n",
       "      <th>2020-03-21</th>\n",
       "      <td>2283</td>\n",
       "    </tr>\n",
       "    <tr>\n",
       "      <th>2020-03-24</th>\n",
       "      <td>3757</td>\n",
       "    </tr>\n",
       "    <tr>\n",
       "      <th>2020-03-27</th>\n",
       "      <td>3045</td>\n",
       "    </tr>\n",
       "    <tr>\n",
       "      <th>...</th>\n",
       "      <td>...</td>\n",
       "    </tr>\n",
       "    <tr>\n",
       "      <th>2021-03-01</th>\n",
       "      <td>8788</td>\n",
       "    </tr>\n",
       "    <tr>\n",
       "      <th>2021-03-04</th>\n",
       "      <td>6978</td>\n",
       "    </tr>\n",
       "    <tr>\n",
       "      <th>2021-03-07</th>\n",
       "      <td>7921</td>\n",
       "    </tr>\n",
       "    <tr>\n",
       "      <th>2021-03-10</th>\n",
       "      <td>10645</td>\n",
       "    </tr>\n",
       "    <tr>\n",
       "      <th>2021-03-13</th>\n",
       "      <td>5530</td>\n",
       "    </tr>\n",
       "  </tbody>\n",
       "</table>\n",
       "<p>122 rows × 1 columns</p>\n",
       "</div>"
      ],
      "text/plain": [
       "            TOTAL CASES\n",
       "DATE                   \n",
       "2020-03-15         1023\n",
       "2020-03-18         1909\n",
       "2020-03-21         2283\n",
       "2020-03-24         3757\n",
       "2020-03-27         3045\n",
       "...                 ...\n",
       "2021-03-01         8788\n",
       "2021-03-04         6978\n",
       "2021-03-07         7921\n",
       "2021-03-10        10645\n",
       "2021-03-13         5530\n",
       "\n",
       "[122 rows x 1 columns]"
      ]
     },
     "execution_count": 6,
     "metadata": {},
     "output_type": "execute_result"
    }
   ],
   "source": [
    "data = pd.read_excel(\"Broj_zarazenih_Bioinzenjering_i_Bioinformatika.xlsx\")\n",
    "data['DATE'] = pd.to_datetime(data.DATE)\n",
    "data=data.groupby(pd.Grouper(key='DATE', axis=0, freq='3D')).sum()\n",
    "data"
   ]
  },
  {
   "cell_type": "code",
   "execution_count": 7,
   "id": "394dae4d",
   "metadata": {},
   "outputs": [
    {
     "data": {
      "text/html": [
       "<div>\n",
       "<style scoped>\n",
       "    .dataframe tbody tr th:only-of-type {\n",
       "        vertical-align: middle;\n",
       "    }\n",
       "\n",
       "    .dataframe tbody tr th {\n",
       "        vertical-align: top;\n",
       "    }\n",
       "\n",
       "    .dataframe thead th {\n",
       "        text-align: right;\n",
       "    }\n",
       "</style>\n",
       "<table border=\"1\" class=\"dataframe\">\n",
       "  <thead>\n",
       "    <tr style=\"text-align: right;\">\n",
       "      <th></th>\n",
       "      <th>TOTAL CASES</th>\n",
       "    </tr>\n",
       "    <tr>\n",
       "      <th>DATE</th>\n",
       "      <th></th>\n",
       "    </tr>\n",
       "  </thead>\n",
       "  <tbody>\n",
       "    <tr>\n",
       "      <th>2020-12-31</th>\n",
       "      <td>3324</td>\n",
       "    </tr>\n",
       "    <tr>\n",
       "      <th>2021-01-03</th>\n",
       "      <td>6766</td>\n",
       "    </tr>\n",
       "    <tr>\n",
       "      <th>2021-01-06</th>\n",
       "      <td>6552</td>\n",
       "    </tr>\n",
       "    <tr>\n",
       "      <th>2021-01-09</th>\n",
       "      <td>5335</td>\n",
       "    </tr>\n",
       "    <tr>\n",
       "      <th>2021-01-12</th>\n",
       "      <td>6901</td>\n",
       "    </tr>\n",
       "    <tr>\n",
       "      <th>2021-01-15</th>\n",
       "      <td>4090</td>\n",
       "    </tr>\n",
       "    <tr>\n",
       "      <th>2021-01-18</th>\n",
       "      <td>8080</td>\n",
       "    </tr>\n",
       "    <tr>\n",
       "      <th>2021-01-21</th>\n",
       "      <td>6422</td>\n",
       "    </tr>\n",
       "    <tr>\n",
       "      <th>2021-01-24</th>\n",
       "      <td>7023</td>\n",
       "    </tr>\n",
       "    <tr>\n",
       "      <th>2021-01-27</th>\n",
       "      <td>8242</td>\n",
       "    </tr>\n",
       "    <tr>\n",
       "      <th>2021-01-30</th>\n",
       "      <td>5819</td>\n",
       "    </tr>\n",
       "    <tr>\n",
       "      <th>2021-02-02</th>\n",
       "      <td>7513</td>\n",
       "    </tr>\n",
       "    <tr>\n",
       "      <th>2021-02-05</th>\n",
       "      <td>4357</td>\n",
       "    </tr>\n",
       "    <tr>\n",
       "      <th>2021-02-08</th>\n",
       "      <td>6922</td>\n",
       "    </tr>\n",
       "    <tr>\n",
       "      <th>2021-02-11</th>\n",
       "      <td>5283</td>\n",
       "    </tr>\n",
       "    <tr>\n",
       "      <th>2021-02-14</th>\n",
       "      <td>5803</td>\n",
       "    </tr>\n",
       "    <tr>\n",
       "      <th>2021-02-17</th>\n",
       "      <td>7979</td>\n",
       "    </tr>\n",
       "    <tr>\n",
       "      <th>2021-02-20</th>\n",
       "      <td>5756</td>\n",
       "    </tr>\n",
       "    <tr>\n",
       "      <th>2021-02-23</th>\n",
       "      <td>8343</td>\n",
       "    </tr>\n",
       "    <tr>\n",
       "      <th>2021-02-26</th>\n",
       "      <td>5058</td>\n",
       "    </tr>\n",
       "    <tr>\n",
       "      <th>2021-03-01</th>\n",
       "      <td>8788</td>\n",
       "    </tr>\n",
       "    <tr>\n",
       "      <th>2021-03-04</th>\n",
       "      <td>6978</td>\n",
       "    </tr>\n",
       "    <tr>\n",
       "      <th>2021-03-07</th>\n",
       "      <td>7921</td>\n",
       "    </tr>\n",
       "    <tr>\n",
       "      <th>2021-03-10</th>\n",
       "      <td>10645</td>\n",
       "    </tr>\n",
       "    <tr>\n",
       "      <th>2021-03-13</th>\n",
       "      <td>5530</td>\n",
       "    </tr>\n",
       "  </tbody>\n",
       "</table>\n",
       "</div>"
      ],
      "text/plain": [
       "            TOTAL CASES\n",
       "DATE                   \n",
       "2020-12-31         3324\n",
       "2021-01-03         6766\n",
       "2021-01-06         6552\n",
       "2021-01-09         5335\n",
       "2021-01-12         6901\n",
       "2021-01-15         4090\n",
       "2021-01-18         8080\n",
       "2021-01-21         6422\n",
       "2021-01-24         7023\n",
       "2021-01-27         8242\n",
       "2021-01-30         5819\n",
       "2021-02-02         7513\n",
       "2021-02-05         4357\n",
       "2021-02-08         6922\n",
       "2021-02-11         5283\n",
       "2021-02-14         5803\n",
       "2021-02-17         7979\n",
       "2021-02-20         5756\n",
       "2021-02-23         8343\n",
       "2021-02-26         5058\n",
       "2021-03-01         8788\n",
       "2021-03-04         6978\n",
       "2021-03-07         7921\n",
       "2021-03-10        10645\n",
       "2021-03-13         5530"
      ]
     },
     "execution_count": 7,
     "metadata": {},
     "output_type": "execute_result"
    }
   ],
   "source": [
    "data.tail(25)"
   ]
  },
  {
   "cell_type": "code",
   "execution_count": 8,
   "id": "48d9e1d6",
   "metadata": {},
   "outputs": [
    {
     "name": "stdout",
     "output_type": "stream",
     "text": [
      "Data shape:  (122, 1)\n"
     ]
    }
   ],
   "source": [
    "print(\"Data shape: \", data.shape)"
   ]
  },
  {
   "cell_type": "code",
   "execution_count": 9,
   "id": "7beaed74",
   "metadata": {},
   "outputs": [
    {
     "data": {
      "text/html": [
       "<div>\n",
       "<style scoped>\n",
       "    .dataframe tbody tr th:only-of-type {\n",
       "        vertical-align: middle;\n",
       "    }\n",
       "\n",
       "    .dataframe tbody tr th {\n",
       "        vertical-align: top;\n",
       "    }\n",
       "\n",
       "    .dataframe thead th {\n",
       "        text-align: right;\n",
       "    }\n",
       "</style>\n",
       "<table border=\"1\" class=\"dataframe\">\n",
       "  <thead>\n",
       "    <tr style=\"text-align: right;\">\n",
       "      <th></th>\n",
       "      <th>TOTAL CASES</th>\n",
       "    </tr>\n",
       "  </thead>\n",
       "  <tbody>\n",
       "    <tr>\n",
       "      <th>count</th>\n",
       "      <td>122.000000</td>\n",
       "    </tr>\n",
       "    <tr>\n",
       "      <th>mean</th>\n",
       "      <td>6650.721311</td>\n",
       "    </tr>\n",
       "    <tr>\n",
       "      <th>std</th>\n",
       "      <td>9823.262225</td>\n",
       "    </tr>\n",
       "    <tr>\n",
       "      <th>min</th>\n",
       "      <td>191.000000</td>\n",
       "    </tr>\n",
       "    <tr>\n",
       "      <th>25%</th>\n",
       "      <td>1223.000000</td>\n",
       "    </tr>\n",
       "    <tr>\n",
       "      <th>50%</th>\n",
       "      <td>4190.000000</td>\n",
       "    </tr>\n",
       "    <tr>\n",
       "      <th>75%</th>\n",
       "      <td>7335.500000</td>\n",
       "    </tr>\n",
       "    <tr>\n",
       "      <th>max</th>\n",
       "      <td>60081.000000</td>\n",
       "    </tr>\n",
       "  </tbody>\n",
       "</table>\n",
       "</div>"
      ],
      "text/plain": [
       "        TOTAL CASES\n",
       "count    122.000000\n",
       "mean    6650.721311\n",
       "std     9823.262225\n",
       "min      191.000000\n",
       "25%     1223.000000\n",
       "50%     4190.000000\n",
       "75%     7335.500000\n",
       "max    60081.000000"
      ]
     },
     "execution_count": 9,
     "metadata": {},
     "output_type": "execute_result"
    }
   ],
   "source": [
    "data.describe()"
   ]
  },
  {
   "cell_type": "code",
   "execution_count": 10,
   "id": "2dbd78fe",
   "metadata": {},
   "outputs": [
    {
     "data": {
      "text/plain": [
       "TOTAL CASES    0\n",
       "dtype: int64"
      ]
     },
     "execution_count": 10,
     "metadata": {},
     "output_type": "execute_result"
    }
   ],
   "source": [
    "data.isnull().sum()"
   ]
  },
  {
   "cell_type": "code",
   "execution_count": 11,
   "id": "57ac50dd",
   "metadata": {
    "scrolled": false
   },
   "outputs": [
    {
     "data": {
      "text/plain": [
       "<AxesSubplot:xlabel='DATE'>"
      ]
     },
     "execution_count": 11,
     "metadata": {},
     "output_type": "execute_result"
    },
    {
     "data": {
      "image/png": "[encoded data removed]",
      "text/plain": [
       "<Figure size 864x576 with 1 Axes>"
      ]
     },
     "metadata": {
      "needs_background": "light"
     },
     "output_type": "display_data"
    }
   ],
   "source": [
    "data.columns = ['TOTAL CASES']\n",
    "data.plot(figsize = (12,8))"
   ]
  },
  {
   "cell_type": "markdown",
   "id": "b0133f55",
   "metadata": {},
   "source": [
    "# LSTM"
   ]
  },
  {
   "cell_type": "code",
   "execution_count": 12,
   "id": "2c9aa342",
   "metadata": {},
   "outputs": [],
   "source": [
    "from statsmodels.tsa.seasonal import seasonal_decompose"
   ]
  },
  {
   "cell_type": "code",
   "execution_count": 13,
   "id": "8d4d5cb4",
   "metadata": {},
   "outputs": [
    {
     "data": {
      "image/png": "[encoded data removed]",
      "text/plain": [
       "<Figure size 432x288 with 4 Axes>"
      ]
     },
     "metadata": {
      "needs_background": "light"
     },
     "output_type": "display_data"
    }
   ],
   "source": [
    "results = seasonal_decompose(data['TOTAL CASES'])\n",
    "results.plot();"
   ]
  },
  {
   "cell_type": "code",
   "execution_count": 14,
   "id": "274d04ae",
   "metadata": {},
   "outputs": [
    {
     "data": {
      "text/plain": [
       "122"
      ]
     },
     "execution_count": 14,
     "metadata": {},
     "output_type": "execute_result"
    }
   ],
   "source": [
    "len(data)"
   ]
  },
  {
   "cell_type": "code",
   "execution_count": 15,
   "id": "9d96f507",
   "metadata": {},
   "outputs": [],
   "source": [
    "# 15 is the last 3 months, so I want train to be 74-15\n",
    "# 30 is the last 3 months, so I want train to be 122-30\n",
    "train = data.iloc[:92]\n",
    "test = data.iloc[92:]"
   ]
  },
  {
   "cell_type": "code",
   "execution_count": 16,
   "id": "8d0af6c7",
   "metadata": {},
   "outputs": [],
   "source": [
    "scaler = MinMaxScaler()"
   ]
  },
  {
   "cell_type": "code",
   "execution_count": 17,
   "id": "ab3587ce",
   "metadata": {},
   "outputs": [
    {
     "data": {
      "text/plain": [
       "(            TOTAL CASES\n",
       " DATE                   \n",
       " 2020-03-15         1023\n",
       " 2020-03-18         1909\n",
       " 2020-03-21         2283\n",
       " 2020-03-24         3757\n",
       " 2020-03-27         3045,\n",
       "             TOTAL CASES\n",
       " DATE                   \n",
       " 2021-03-01         8788\n",
       " 2021-03-04         6978\n",
       " 2021-03-07         7921\n",
       " 2021-03-10        10645\n",
       " 2021-03-13         5530)"
      ]
     },
     "execution_count": 17,
     "metadata": {},
     "output_type": "execute_result"
    }
   ],
   "source": [
    "data.head(), data.tail()"
   ]
  },
  {
   "cell_type": "code",
   "execution_count": 18,
   "id": "d155c0fc",
   "metadata": {},
   "outputs": [],
   "source": [
    "scaler.fit(train)\n",
    "scaled_train = scaler.transform(train)\n",
    "scaled_test = scaler.transform(test)"
   ]
  },
  {
   "cell_type": "code",
   "execution_count": 19,
   "id": "c8e7acae",
   "metadata": {},
   "outputs": [
    {
     "data": {
      "text/plain": [
       "array([[0.01389214],\n",
       "       [0.02868592],\n",
       "       [0.03493071],\n",
       "       [0.05954249],\n",
       "       [0.04765403],\n",
       "       [0.07921189],\n",
       "       [0.06516948],\n",
       "       [0.06550342],\n",
       "       [0.09988312],\n",
       "       [0.03170813]])"
      ]
     },
     "execution_count": 19,
     "metadata": {},
     "output_type": "execute_result"
    }
   ],
   "source": [
    "scaled_train[:10]"
   ]
  },
  {
   "cell_type": "code",
   "execution_count": 20,
   "id": "de0322f8",
   "metadata": {},
   "outputs": [],
   "source": [
    "from keras.preprocessing.sequence import TimeseriesGenerator"
   ]
  },
  {
   "cell_type": "code",
   "execution_count": 21,
   "id": "1e249d9d",
   "metadata": {},
   "outputs": [],
   "source": [
    "# define generator\n",
    "# number of input is defined like so:\n",
    "# 366/5 = 122 \n",
    "# 122/12 = 10.15 == 10\n",
    "n_input = 10\n",
    "n_features = 1\n",
    "generator = TimeseriesGenerator(scaled_train, scaled_train, length=n_input, batch_size = 1)"
   ]
  },
  {
   "cell_type": "code",
   "execution_count": 22,
   "id": "613b97f3",
   "metadata": {},
   "outputs": [
    {
     "name": "stdout",
     "output_type": "stream",
     "text": [
      "Given the Array: \n",
      "[0.01389214 0.02868592 0.03493071 0.05954249 0.04765403 0.07921189\n",
      " 0.06516948 0.06550342 0.09988312 0.03170813]\n",
      "Predict this y: \n",
      "[[0.07807647]]\n"
     ]
    }
   ],
   "source": [
    "X,y = generator[0]\n",
    "print(f'Given the Array: \\n{X.flatten()}')\n",
    "print(f'Predict this y: \\n{y}')"
   ]
  },
  {
   "cell_type": "code",
   "execution_count": 23,
   "id": "6ff09890",
   "metadata": {},
   "outputs": [
    {
     "data": {
      "text/plain": [
       "array([0.07807647])"
      ]
     },
     "execution_count": 23,
     "metadata": {},
     "output_type": "execute_result"
    }
   ],
   "source": [
    "scaled_train[10]"
   ]
  },
  {
   "cell_type": "code",
   "execution_count": 24,
   "id": "a4f2f33c",
   "metadata": {},
   "outputs": [
    {
     "data": {
      "text/plain": [
       "(1, 10, 1)"
      ]
     },
     "execution_count": 24,
     "metadata": {},
     "output_type": "execute_result"
    }
   ],
   "source": [
    "X.shape"
   ]
  },
  {
   "cell_type": "code",
   "execution_count": 25,
   "id": "86f664c7",
   "metadata": {},
   "outputs": [],
   "source": [
    "from keras.models import Sequential\n",
    "from keras.layers import Dense\n",
    "from keras.layers import LSTM"
   ]
  },
  {
   "cell_type": "code",
   "execution_count": 26,
   "id": "d7a57410",
   "metadata": {},
   "outputs": [],
   "source": [
    "# define model\n",
    "model = Sequential()\n",
    "model.add(LSTM(200, activation='relu', input_shape=(n_input, n_features)))\n",
    "model.add(Dense(1))\n",
    "model.compile(optimizer='adam', loss='mse')"
   ]
  },
  {
   "cell_type": "code",
   "execution_count": 27,
   "id": "5cca6a3d",
   "metadata": {},
   "outputs": [
    {
     "name": "stdout",
     "output_type": "stream",
     "text": [
      "Model: \"sequential\"\n",
      "_________________________________________________________________\n",
      " Layer (type)                Output Shape              Param #   \n",
      "=================================================================\n",
      " lstm (LSTM)                 (None, 200)               161600    \n",
      "                                                                 \n",
      " dense (Dense)               (None, 1)                 201       \n",
      "                                                                 \n",
      "=================================================================\n",
      "Total params: 161,801\n",
      "Trainable params: 161,801\n",
      "Non-trainable params: 0\n",
      "_________________________________________________________________\n"
     ]
    }
   ],
   "source": [
    "model.summary()"
   ]
  },
  {
   "cell_type": "code",
   "execution_count": 28,
   "id": "167ef71b",
   "metadata": {
    "scrolled": false
   },
   "outputs": [
    {
     "name": "stdout",
     "output_type": "stream",
     "text": [
      "Epoch 1/100\n",
      "82/82 [==============================] - 2s 6ms/step - loss: 0.0268\n",
      "Epoch 2/100\n",
      "82/82 [==============================] - 1s 6ms/step - loss: 0.0190\n",
      "Epoch 3/100\n",
      "82/82 [==============================] - 1s 6ms/step - loss: 0.0145\n",
      "Epoch 4/100\n",
      "82/82 [==============================] - 1s 6ms/step - loss: 0.0145\n",
      "Epoch 5/100\n",
      "82/82 [==============================] - 1s 6ms/step - loss: 0.0132\n",
      "Epoch 6/100\n",
      "82/82 [==============================] - 1s 6ms/step - loss: 0.0121\n",
      "Epoch 7/100\n",
      "82/82 [==============================] - 1s 6ms/step - loss: 0.0104\n",
      "Epoch 8/100\n",
      "82/82 [==============================] - 1s 6ms/step - loss: 0.0091\n",
      "Epoch 9/100\n",
      "82/82 [==============================] - 1s 6ms/step - loss: 0.0088\n",
      "Epoch 10/100\n",
      "82/82 [==============================] - 1s 6ms/step - loss: 0.0093\n",
      "Epoch 11/100\n",
      "82/82 [==============================] - 1s 6ms/step - loss: 0.0068\n",
      "Epoch 12/100\n",
      "82/82 [==============================] - 1s 6ms/step - loss: 0.0081\n",
      "Epoch 13/100\n",
      "82/82 [==============================] - 1s 6ms/step - loss: 0.0086\n",
      "Epoch 14/100\n",
      "82/82 [==============================] - 1s 6ms/step - loss: 0.0088\n",
      "Epoch 15/100\n",
      "82/82 [==============================] - 1s 6ms/step - loss: 0.0070\n",
      "Epoch 16/100\n",
      "82/82 [==============================] - 1s 6ms/step - loss: 0.0075\n",
      "Epoch 17/100\n",
      "82/82 [==============================] - 1s 6ms/step - loss: 0.0061\n",
      "Epoch 18/100\n",
      "82/82 [==============================] - 1s 6ms/step - loss: 0.0045\n",
      "Epoch 19/100\n",
      "82/82 [==============================] - 1s 6ms/step - loss: 0.0068\n",
      "Epoch 20/100\n",
      "82/82 [==============================] - 1s 6ms/step - loss: 0.0055\n",
      "Epoch 21/100\n",
      "82/82 [==============================] - 1s 6ms/step - loss: 0.0064\n",
      "Epoch 22/100\n",
      "82/82 [==============================] - 1s 6ms/step - loss: 0.0059\n",
      "Epoch 23/100\n",
      "82/82 [==============================] - 1s 6ms/step - loss: 0.0050\n",
      "Epoch 24/100\n",
      "82/82 [==============================] - 1s 7ms/step - loss: 0.0067\n",
      "Epoch 25/100\n",
      "82/82 [==============================] - 1s 6ms/step - loss: 0.0055\n",
      "Epoch 26/100\n",
      "82/82 [==============================] - 1s 6ms/step - loss: 0.0050\n",
      "Epoch 27/100\n",
      "82/82 [==============================] - 1s 6ms/step - loss: 0.0060\n",
      "Epoch 28/100\n",
      "82/82 [==============================] - 1s 6ms/step - loss: 0.0051\n",
      "Epoch 29/100\n",
      "82/82 [==============================] - 1s 6ms/step - loss: 0.0049\n",
      "Epoch 30/100\n",
      "82/82 [==============================] - 1s 6ms/step - loss: 0.0054\n",
      "Epoch 31/100\n",
      "82/82 [==============================] - 1s 6ms/step - loss: 0.0049\n",
      "Epoch 32/100\n",
      "82/82 [==============================] - 1s 6ms/step - loss: 0.0048\n",
      "Epoch 33/100\n",
      "82/82 [==============================] - 1s 6ms/step - loss: 0.0050\n",
      "Epoch 34/100\n",
      "82/82 [==============================] - 1s 6ms/step - loss: 0.0060\n",
      "Epoch 35/100\n",
      "82/82 [==============================] - 1s 6ms/step - loss: 0.0047\n",
      "Epoch 36/100\n",
      "82/82 [==============================] - 1s 6ms/step - loss: 0.0041\n",
      "Epoch 37/100\n",
      "82/82 [==============================] - 1s 6ms/step - loss: 0.0050\n",
      "Epoch 38/100\n",
      "82/82 [==============================] - 1s 6ms/step - loss: 0.0051\n",
      "Epoch 39/100\n",
      "82/82 [==============================] - 1s 7ms/step - loss: 0.0044\n",
      "Epoch 40/100\n",
      "82/82 [==============================] - 1s 6ms/step - loss: 0.0043\n",
      "Epoch 41/100\n",
      "82/82 [==============================] - 1s 6ms/step - loss: 0.0058\n",
      "Epoch 42/100\n",
      "82/82 [==============================] - 1s 6ms/step - loss: 0.0048\n",
      "Epoch 43/100\n",
      "82/82 [==============================] - 1s 6ms/step - loss: 0.0046\n",
      "Epoch 44/100\n",
      "82/82 [==============================] - 1s 6ms/step - loss: 0.0045\n",
      "Epoch 45/100\n",
      "82/82 [==============================] - 1s 6ms/step - loss: 0.0043\n",
      "Epoch 46/100\n",
      "82/82 [==============================] - 1s 6ms/step - loss: 0.0040\n",
      "Epoch 47/100\n",
      "82/82 [==============================] - 1s 6ms/step - loss: 0.0043\n",
      "Epoch 48/100\n",
      "82/82 [==============================] - 1s 7ms/step - loss: 0.0078\n",
      "Epoch 49/100\n",
      "82/82 [==============================] - 1s 6ms/step - loss: 0.0051\n",
      "Epoch 50/100\n",
      "82/82 [==============================] - 1s 6ms/step - loss: 0.0044\n",
      "Epoch 51/100\n",
      "82/82 [==============================] - 1s 6ms/step - loss: 0.0044\n",
      "Epoch 52/100\n",
      "82/82 [==============================] - 1s 6ms/step - loss: 0.0050\n",
      "Epoch 53/100\n",
      "82/82 [==============================] - 1s 6ms/step - loss: 0.0044\n",
      "Epoch 54/100\n",
      "82/82 [==============================] - 1s 6ms/step - loss: 0.0045\n",
      "Epoch 55/100\n",
      "82/82 [==============================] - 1s 6ms/step - loss: 0.0041\n",
      "Epoch 56/100\n",
      "82/82 [==============================] - 1s 6ms/step - loss: 0.0042\n",
      "Epoch 57/100\n",
      "82/82 [==============================] - 1s 6ms/step - loss: 0.0038\n",
      "Epoch 58/100\n",
      "82/82 [==============================] - 1s 6ms/step - loss: 0.0045\n",
      "Epoch 59/100\n",
      "82/82 [==============================] - 1s 8ms/step - loss: 0.0042\n",
      "Epoch 60/100\n",
      "82/82 [==============================] - 1s 9ms/step - loss: 0.0036\n",
      "Epoch 61/100\n",
      "82/82 [==============================] - 1s 8ms/step - loss: 0.0040\n",
      "Epoch 62/100\n",
      "82/82 [==============================] - 1s 7ms/step - loss: 0.0040\n",
      "Epoch 63/100\n",
      "82/82 [==============================] - 1s 9ms/step - loss: 0.0046\n",
      "Epoch 64/100\n",
      "82/82 [==============================] - 1s 8ms/step - loss: 0.0039\n",
      "Epoch 65/100\n",
      "82/82 [==============================] - 1s 6ms/step - loss: 0.0042\n",
      "Epoch 66/100\n",
      "82/82 [==============================] - 1s 8ms/step - loss: 0.0044\n",
      "Epoch 67/100\n",
      "82/82 [==============================] - 1s 8ms/step - loss: 0.0038\n",
      "Epoch 68/100\n",
      "82/82 [==============================] - 1s 8ms/step - loss: 0.0043\n",
      "Epoch 69/100\n",
      "82/82 [==============================] - 1s 8ms/step - loss: 0.0054\n",
      "Epoch 70/100\n",
      "82/82 [==============================] - 1s 8ms/step - loss: 0.0036\n",
      "Epoch 71/100\n",
      "82/82 [==============================] - 1s 6ms/step - loss: 0.0038\n",
      "Epoch 72/100\n",
      "82/82 [==============================] - 1s 6ms/step - loss: 0.0034\n",
      "Epoch 73/100\n",
      "82/82 [==============================] - 1s 6ms/step - loss: 0.0034\n",
      "Epoch 74/100\n",
      "82/82 [==============================] - 1s 6ms/step - loss: 0.0033\n",
      "Epoch 75/100\n",
      "82/82 [==============================] - 1s 6ms/step - loss: 0.0039\n",
      "Epoch 76/100\n",
      "82/82 [==============================] - 1s 6ms/step - loss: 0.0048\n",
      "Epoch 77/100\n",
      "82/82 [==============================] - 1s 8ms/step - loss: 0.0032\n",
      "Epoch 78/100\n",
      "82/82 [==============================] - 1s 6ms/step - loss: 0.0037\n",
      "Epoch 79/100\n",
      "82/82 [==============================] - 1s 6ms/step - loss: 0.0036\n",
      "Epoch 80/100\n",
      "82/82 [==============================] - 1s 7ms/step - loss: 0.0046\n",
      "Epoch 81/100\n",
      "82/82 [==============================] - 1s 7ms/step - loss: 0.0036\n",
      "Epoch 82/100\n",
      "82/82 [==============================] - 1s 7ms/step - loss: 0.0032\n",
      "Epoch 83/100\n",
      "82/82 [==============================] - 1s 7ms/step - loss: 0.0034\n",
      "Epoch 84/100\n",
      "82/82 [==============================] - 1s 7ms/step - loss: 0.0052\n",
      "Epoch 85/100\n",
      "82/82 [==============================] - 1s 7ms/step - loss: 0.0035\n",
      "Epoch 86/100\n",
      "82/82 [==============================] - 1s 6ms/step - loss: 0.0037\n",
      "Epoch 87/100\n",
      "82/82 [==============================] - 1s 6ms/step - loss: 0.0031\n",
      "Epoch 88/100\n",
      "82/82 [==============================] - 1s 6ms/step - loss: 0.0030\n",
      "Epoch 89/100\n",
      "82/82 [==============================] - 1s 7ms/step - loss: 0.0030\n",
      "Epoch 90/100\n",
      "82/82 [==============================] - 1s 6ms/step - loss: 0.0031\n",
      "Epoch 91/100\n",
      "82/82 [==============================] - 1s 6ms/step - loss: 0.0029\n",
      "Epoch 92/100\n",
      "82/82 [==============================] - 1s 7ms/step - loss: 0.0034\n",
      "Epoch 93/100\n",
      "82/82 [==============================] - 1s 6ms/step - loss: 0.0026\n",
      "Epoch 94/100\n",
      "82/82 [==============================] - 1s 7ms/step - loss: 0.0027\n",
      "Epoch 95/100\n",
      "82/82 [==============================] - 1s 6ms/step - loss: 0.0030\n",
      "Epoch 96/100\n",
      "82/82 [==============================] - 1s 6ms/step - loss: 0.0031\n",
      "Epoch 97/100\n",
      "82/82 [==============================] - 1s 7ms/step - loss: 0.0029\n",
      "Epoch 98/100\n",
      "82/82 [==============================] - 1s 6ms/step - loss: 0.0028\n",
      "Epoch 99/100\n",
      "82/82 [==============================] - 1s 7ms/step - loss: 0.0029\n",
      "Epoch 100/100\n",
      "82/82 [==============================] - 1s 8ms/step - loss: 0.0023\n"
     ]
    },
    {
     "data": {
      "text/plain": [
       "<keras.callbacks.History at 0x1c45d6e8400>"
      ]
     },
     "execution_count": 28,
     "metadata": {},
     "output_type": "execute_result"
    }
   ],
   "source": [
    "# fit model\n",
    "model.fit(generator, epochs = 100)"
   ]
  },
  {
   "cell_type": "code",
   "execution_count": 29,
   "id": "ff363ebe",
   "metadata": {},
   "outputs": [
    {
     "data": {
      "text/plain": [
       "[<matplotlib.lines.Line2D at 0x1c460cbd790>]"
      ]
     },
     "execution_count": 29,
     "metadata": {},
     "output_type": "execute_result"
    },
    {
     "data": {
      "image/png": "[encoded data removed]",
      "text/plain": [
       "<Figure size 432x288 with 1 Axes>"
      ]
     },
     "metadata": {
      "needs_background": "light"
     },
     "output_type": "display_data"
    }
   ],
   "source": [
    "loss_per_epoch = model.history.history['loss']\n",
    "plt.plot(range(len(loss_per_epoch)), loss_per_epoch)"
   ]
  },
  {
   "cell_type": "code",
   "execution_count": 30,
   "id": "14228a47",
   "metadata": {},
   "outputs": [],
   "source": [
    "last_train_batch = scaled_train[-10:]"
   ]
  },
  {
   "cell_type": "code",
   "execution_count": 31,
   "id": "3945ab4d",
   "metadata": {},
   "outputs": [],
   "source": [
    "last_train_batch = last_train_batch.reshape((1,n_input,n_features))"
   ]
  },
  {
   "cell_type": "code",
   "execution_count": 32,
   "id": "d8e042f5",
   "metadata": {},
   "outputs": [
    {
     "name": "stdout",
     "output_type": "stream",
     "text": [
      "1/1 [==============================] - 0s 171ms/step\n"
     ]
    },
    {
     "data": {
      "text/plain": [
       "array([[0.12664498]], dtype=float32)"
      ]
     },
     "execution_count": 32,
     "metadata": {},
     "output_type": "execute_result"
    }
   ],
   "source": [
    "model.predict(last_train_batch)"
   ]
  },
  {
   "cell_type": "code",
   "execution_count": 33,
   "id": "4c578990",
   "metadata": {},
   "outputs": [
    {
     "data": {
      "text/plain": [
       "array([0.13848723])"
      ]
     },
     "execution_count": 33,
     "metadata": {},
     "output_type": "execute_result"
    }
   ],
   "source": [
    "scaled_test[0]"
   ]
  },
  {
   "cell_type": "code",
   "execution_count": 34,
   "id": "a62a690d",
   "metadata": {},
   "outputs": [
    {
     "name": "stdout",
     "output_type": "stream",
     "text": [
      "1/1 [==============================] - 0s 17ms/step\n",
      "1/1 [==============================] - 0s 19ms/step\n",
      "1/1 [==============================] - 0s 4ms/step\n",
      "1/1 [==============================] - 0s 6ms/step\n",
      "1/1 [==============================] - 0s 16ms/step\n",
      "1/1 [==============================] - 0s 16ms/step\n",
      "1/1 [==============================] - 0s 16ms/step\n",
      "1/1 [==============================] - 0s 18ms/step\n",
      "1/1 [==============================] - 0s 34ms/step\n",
      "1/1 [==============================] - 0s 31ms/step\n",
      "1/1 [==============================] - 0s 10ms/step\n",
      "1/1 [==============================] - 0s 16ms/step\n",
      "1/1 [==============================] - 0s 16ms/step\n",
      "1/1 [==============================] - 0s 4ms/step\n",
      "1/1 [==============================] - 0s 6ms/step\n",
      "1/1 [==============================] - 0s 6ms/step\n",
      "1/1 [==============================] - 0s 11ms/step\n",
      "1/1 [==============================] - 0s 20ms/step\n",
      "1/1 [==============================] - 0s 28ms/step\n",
      "1/1 [==============================] - 0s 31ms/step\n",
      "1/1 [==============================] - 0s 32ms/step\n",
      "1/1 [==============================] - 0s 14ms/step\n",
      "1/1 [==============================] - 0s 16ms/step\n",
      "1/1 [==============================] - 0s 16ms/step\n",
      "1/1 [==============================] - 0s 20ms/step\n",
      "1/1 [==============================] - 0s 36ms/step\n",
      "1/1 [==============================] - 0s 31ms/step\n",
      "1/1 [==============================] - 0s 18ms/step\n",
      "1/1 [==============================] - 0s 4ms/step\n",
      "1/1 [==============================] - 0s 18ms/step\n"
     ]
    }
   ],
   "source": [
    "test_predictions = []\n",
    "\n",
    "first_eval_batch = scaled_train[-n_input:]\n",
    "current_batch = first_eval_batch.reshape((1,n_input,n_features))\n",
    "\n",
    "for i in range(len(test)):\n",
    "    \n",
    "    # get the prediction value for the first batch\n",
    "    current_pred = model.predict(current_batch)[0]\n",
    "    \n",
    "    # append the prediction into the array\n",
    "    test_predictions.append(current_pred)\n",
    "    \n",
    "    # use the prediction to update the batch and move the first value\n",
    "    current_batch = np.append(current_batch[:,1:,:], [[current_pred]], axis=1)"
   ]
  },
  {
   "cell_type": "code",
   "execution_count": 35,
   "id": "591c2d62",
   "metadata": {},
   "outputs": [
    {
     "data": {
      "text/plain": [
       "[array([0.12664498], dtype=float32),\n",
       " array([0.16356984], dtype=float32),\n",
       " array([0.19367349], dtype=float32),\n",
       " array([0.2453865], dtype=float32),\n",
       " array([0.31010583], dtype=float32),\n",
       " array([0.36850336], dtype=float32),\n",
       " array([0.4416473], dtype=float32),\n",
       " array([0.52752584], dtype=float32),\n",
       " array([0.61325514], dtype=float32),\n",
       " array([0.66688454], dtype=float32),\n",
       " array([0.68737185], dtype=float32),\n",
       " array([0.6705774], dtype=float32),\n",
       " array([0.5851718], dtype=float32),\n",
       " array([0.44727552], dtype=float32),\n",
       " array([0.28623366], dtype=float32),\n",
       " array([0.21976662], dtype=float32),\n",
       " array([0.20500894], dtype=float32),\n",
       " array([0.18635163], dtype=float32),\n",
       " array([0.16956806], dtype=float32),\n",
       " array([0.1556767], dtype=float32),\n",
       " array([0.1417008], dtype=float32),\n",
       " array([0.12931141], dtype=float32),\n",
       " array([0.1191241], dtype=float32),\n",
       " array([0.11259444], dtype=float32),\n",
       " array([0.11580782], dtype=float32),\n",
       " array([0.11756064], dtype=float32),\n",
       " array([0.11738755], dtype=float32),\n",
       " array([0.12004367], dtype=float32),\n",
       " array([0.12737277], dtype=float32),\n",
       " array([0.14023457], dtype=float32)]"
      ]
     },
     "execution_count": 35,
     "metadata": {},
     "output_type": "execute_result"
    }
   ],
   "source": [
    "test_predictions"
   ]
  },
  {
   "cell_type": "code",
   "execution_count": 36,
   "id": "33c4a326",
   "metadata": {},
   "outputs": [
    {
     "data": {
      "text/html": [
       "<div>\n",
       "<style scoped>\n",
       "    .dataframe tbody tr th:only-of-type {\n",
       "        vertical-align: middle;\n",
       "    }\n",
       "\n",
       "    .dataframe tbody tr th {\n",
       "        vertical-align: top;\n",
       "    }\n",
       "\n",
       "    .dataframe thead th {\n",
       "        text-align: right;\n",
       "    }\n",
       "</style>\n",
       "<table border=\"1\" class=\"dataframe\">\n",
       "  <thead>\n",
       "    <tr style=\"text-align: right;\">\n",
       "      <th></th>\n",
       "      <th>TOTAL CASES</th>\n",
       "    </tr>\n",
       "    <tr>\n",
       "      <th>DATE</th>\n",
       "      <th></th>\n",
       "    </tr>\n",
       "  </thead>\n",
       "  <tbody>\n",
       "    <tr>\n",
       "      <th>2020-12-16</th>\n",
       "      <td>8485</td>\n",
       "    </tr>\n",
       "    <tr>\n",
       "      <th>2020-12-19</th>\n",
       "      <td>5512</td>\n",
       "    </tr>\n",
       "    <tr>\n",
       "      <th>2020-12-22</th>\n",
       "      <td>6953</td>\n",
       "    </tr>\n",
       "    <tr>\n",
       "      <th>2020-12-25</th>\n",
       "      <td>2238</td>\n",
       "    </tr>\n",
       "    <tr>\n",
       "      <th>2020-12-28</th>\n",
       "      <td>7250</td>\n",
       "    </tr>\n",
       "  </tbody>\n",
       "</table>\n",
       "</div>"
      ],
      "text/plain": [
       "            TOTAL CASES\n",
       "DATE                   \n",
       "2020-12-16         8485\n",
       "2020-12-19         5512\n",
       "2020-12-22         6953\n",
       "2020-12-25         2238\n",
       "2020-12-28         7250"
      ]
     },
     "execution_count": 36,
     "metadata": {},
     "output_type": "execute_result"
    }
   ],
   "source": [
    "test.head()"
   ]
  },
  {
   "cell_type": "code",
   "execution_count": 37,
   "id": "57ea0f31",
   "metadata": {},
   "outputs": [
    {
     "data": {
      "text/plain": [
       "<AxesSubplot:xlabel='DATE'>"
      ]
     },
     "execution_count": 37,
     "metadata": {},
     "output_type": "execute_result"
    },
    {
     "data": {
      "image/png": "[encoded data removed]",
      "text/plain": [
       "<Figure size 864x432 with 1 Axes>"
      ]
     },
     "metadata": {
      "needs_background": "light"
     },
     "output_type": "display_data"
    }
   ],
   "source": [
    "true_predictions = scaler.inverse_transform(test_predictions)\n",
    "test.plot(figsize=(12,6))"
   ]
  },
  {
   "cell_type": "code",
   "execution_count": 38,
   "id": "56c21a61",
   "metadata": {},
   "outputs": [],
   "source": [
    "test['Predictions'] = true_predictions"
   ]
  },
  {
   "cell_type": "code",
   "execution_count": 39,
   "id": "79f24ebe",
   "metadata": {},
   "outputs": [
    {
     "data": {
      "text/plain": [
       "<AxesSubplot:xlabel='DATE'>"
      ]
     },
     "execution_count": 39,
     "metadata": {},
     "output_type": "execute_result"
    },
    {
     "data": {
      "image/png": "[encoded data removed]",
      "text/plain": [
       "<Figure size 864x432 with 1 Axes>"
      ]
     },
     "metadata": {
      "needs_background": "light"
     },
     "output_type": "display_data"
    }
   ],
   "source": [
    "test.plot(figsize=(12,6))"
   ]
  },
  {
   "cell_type": "code",
   "execution_count": 40,
   "id": "c5f0822a",
   "metadata": {},
   "outputs": [
    {
     "name": "stdout",
     "output_type": "stream",
     "text": [
      "16090.428791195429\n"
     ]
    }
   ],
   "source": [
    "from math import sqrt\n",
    "rmse = sqrt(mean_squared_error(test['TOTAL CASES'], test['Predictions']))\n",
    "print(rmse)"
   ]
  },
  {
   "cell_type": "markdown",
   "id": "b9a44570",
   "metadata": {},
   "source": [
    "# Stationarity check"
   ]
  },
  {
   "cell_type": "code",
   "execution_count": 41,
   "id": "e23dbf7b",
   "metadata": {},
   "outputs": [
    {
     "data": {
      "text/html": [
       "<div>\n",
       "<style scoped>\n",
       "    .dataframe tbody tr th:only-of-type {\n",
       "        vertical-align: middle;\n",
       "    }\n",
       "\n",
       "    .dataframe tbody tr th {\n",
       "        vertical-align: top;\n",
       "    }\n",
       "\n",
       "    .dataframe thead th {\n",
       "        text-align: right;\n",
       "    }\n",
       "</style>\n",
       "<table border=\"1\" class=\"dataframe\">\n",
       "  <thead>\n",
       "    <tr style=\"text-align: right;\">\n",
       "      <th></th>\n",
       "      <th>TOTAL CASES</th>\n",
       "    </tr>\n",
       "    <tr>\n",
       "      <th>DATE</th>\n",
       "      <th></th>\n",
       "    </tr>\n",
       "  </thead>\n",
       "  <tbody>\n",
       "    <tr>\n",
       "      <th>2020-03-15</th>\n",
       "      <td>214</td>\n",
       "    </tr>\n",
       "    <tr>\n",
       "      <th>2020-03-16</th>\n",
       "      <td>387</td>\n",
       "    </tr>\n",
       "    <tr>\n",
       "      <th>2020-03-17</th>\n",
       "      <td>422</td>\n",
       "    </tr>\n",
       "    <tr>\n",
       "      <th>2020-03-18</th>\n",
       "      <td>534</td>\n",
       "    </tr>\n",
       "    <tr>\n",
       "      <th>2020-03-19</th>\n",
       "      <td>713</td>\n",
       "    </tr>\n",
       "    <tr>\n",
       "      <th>...</th>\n",
       "      <td>...</td>\n",
       "    </tr>\n",
       "    <tr>\n",
       "      <th>2021-03-11</th>\n",
       "      <td>3508</td>\n",
       "    </tr>\n",
       "    <tr>\n",
       "      <th>2021-03-12</th>\n",
       "      <td>3727</td>\n",
       "    </tr>\n",
       "    <tr>\n",
       "      <th>2021-03-13</th>\n",
       "      <td>2142</td>\n",
       "    </tr>\n",
       "    <tr>\n",
       "      <th>2021-03-14</th>\n",
       "      <td>1368</td>\n",
       "    </tr>\n",
       "    <tr>\n",
       "      <th>2021-03-15</th>\n",
       "      <td>2020</td>\n",
       "    </tr>\n",
       "  </tbody>\n",
       "</table>\n",
       "<p>366 rows × 1 columns</p>\n",
       "</div>"
      ],
      "text/plain": [
       "            TOTAL CASES\n",
       "DATE                   \n",
       "2020-03-15          214\n",
       "2020-03-16          387\n",
       "2020-03-17          422\n",
       "2020-03-18          534\n",
       "2020-03-19          713\n",
       "...                 ...\n",
       "2021-03-11         3508\n",
       "2021-03-12         3727\n",
       "2021-03-13         2142\n",
       "2021-03-14         1368\n",
       "2021-03-15         2020\n",
       "\n",
       "[366 rows x 1 columns]"
      ]
     },
     "execution_count": 41,
     "metadata": {},
     "output_type": "execute_result"
    }
   ],
   "source": [
    "data = pd.read_excel(\"Broj_zarazenih_Bioinzenjering_i_Bioinformatika.xlsx\")\n",
    "data['DATE'] = pd.to_datetime(data['DATE'])\n",
    "data.set_index('DATE',inplace=True)\n",
    "\n",
    "data = data.dropna()\n",
    "\n",
    "data"
   ]
  },
  {
   "cell_type": "code",
   "execution_count": 42,
   "id": "4a317952",
   "metadata": {},
   "outputs": [
    {
     "data": {
      "text/html": [
       "<div>\n",
       "<style scoped>\n",
       "    .dataframe tbody tr th:only-of-type {\n",
       "        vertical-align: middle;\n",
       "    }\n",
       "\n",
       "    .dataframe tbody tr th {\n",
       "        vertical-align: top;\n",
       "    }\n",
       "\n",
       "    .dataframe thead th {\n",
       "        text-align: right;\n",
       "    }\n",
       "</style>\n",
       "<table border=\"1\" class=\"dataframe\">\n",
       "  <thead>\n",
       "    <tr style=\"text-align: right;\">\n",
       "      <th></th>\n",
       "      <th>TOTAL CASES</th>\n",
       "    </tr>\n",
       "    <tr>\n",
       "      <th>DATE</th>\n",
       "      <th></th>\n",
       "    </tr>\n",
       "  </thead>\n",
       "  <tbody>\n",
       "    <tr>\n",
       "      <th>2020-03-15</th>\n",
       "      <td>2270</td>\n",
       "    </tr>\n",
       "    <tr>\n",
       "      <th>2020-03-20</th>\n",
       "      <td>4140</td>\n",
       "    </tr>\n",
       "    <tr>\n",
       "      <th>2020-03-25</th>\n",
       "      <td>5607</td>\n",
       "    </tr>\n",
       "    <tr>\n",
       "      <th>2020-03-30</th>\n",
       "      <td>8107</td>\n",
       "    </tr>\n",
       "    <tr>\n",
       "      <th>2020-04-04</th>\n",
       "      <td>6634</td>\n",
       "    </tr>\n",
       "    <tr>\n",
       "      <th>...</th>\n",
       "      <td>...</td>\n",
       "    </tr>\n",
       "    <tr>\n",
       "      <th>2021-02-23</th>\n",
       "      <td>12683</td>\n",
       "    </tr>\n",
       "    <tr>\n",
       "      <th>2021-02-28</th>\n",
       "      <td>12211</td>\n",
       "    </tr>\n",
       "    <tr>\n",
       "      <th>2021-03-05</th>\n",
       "      <td>12194</td>\n",
       "    </tr>\n",
       "    <tr>\n",
       "      <th>2021-03-10</th>\n",
       "      <td>14155</td>\n",
       "    </tr>\n",
       "    <tr>\n",
       "      <th>2021-03-15</th>\n",
       "      <td>2020</td>\n",
       "    </tr>\n",
       "  </tbody>\n",
       "</table>\n",
       "<p>74 rows × 1 columns</p>\n",
       "</div>"
      ],
      "text/plain": [
       "            TOTAL CASES\n",
       "DATE                   \n",
       "2020-03-15         2270\n",
       "2020-03-20         4140\n",
       "2020-03-25         5607\n",
       "2020-03-30         8107\n",
       "2020-04-04         6634\n",
       "...                 ...\n",
       "2021-02-23        12683\n",
       "2021-02-28        12211\n",
       "2021-03-05        12194\n",
       "2021-03-10        14155\n",
       "2021-03-15         2020\n",
       "\n",
       "[74 rows x 1 columns]"
      ]
     },
     "execution_count": 42,
     "metadata": {},
     "output_type": "execute_result"
    }
   ],
   "source": [
    "data = pd.read_excel(\"Broj_zarazenih_Bioinzenjering_i_Bioinformatika.xlsx\")\n",
    "data['DATE'] = pd.to_datetime(data.DATE)\n",
    "data=data.groupby(pd.Grouper(key='DATE', axis=0, freq='5D')).sum()\n",
    "data"
   ]
  },
  {
   "cell_type": "code",
   "execution_count": 43,
   "id": "5612f651",
   "metadata": {},
   "outputs": [
    {
     "data": {
      "text/plain": [
       "<AxesSubplot:xlabel='DATE'>"
      ]
     },
     "execution_count": 43,
     "metadata": {},
     "output_type": "execute_result"
    },
    {
     "data": {
      "image/png": "[encoded data removed]",
      "text/plain": [
       "<Figure size 864x360 with 1 Axes>"
      ]
     },
     "metadata": {
      "needs_background": "light"
     },
     "output_type": "display_data"
    }
   ],
   "source": [
    "data['TOTAL CASES'].plot(figsize=(12,5))"
   ]
  },
  {
   "cell_type": "code",
   "execution_count": 44,
   "id": "3d35a608",
   "metadata": {},
   "outputs": [
    {
     "name": "stdout",
     "output_type": "stream",
     "text": [
      "pvalue of adfuller test is:  0.10934750041868058\n"
     ]
    }
   ],
   "source": [
    "from statsmodels.tsa.stattools import adfuller\n",
    "adftest = adfuller(data)\n",
    "print('pvalue of adfuller test is: ', adftest[1])\n",
    "# < 0.05 --> stationaru\n",
    "# > 0.05 non stationary"
   ]
  },
  {
   "cell_type": "code",
   "execution_count": 45,
   "id": "76b185ef",
   "metadata": {},
   "outputs": [],
   "source": [
    "data1 = data.diff().dropna()"
   ]
  },
  {
   "cell_type": "code",
   "execution_count": 46,
   "id": "c005b841",
   "metadata": {},
   "outputs": [
    {
     "data": {
      "text/plain": [
       "<AxesSubplot:xlabel='DATE'>"
      ]
     },
     "execution_count": 46,
     "metadata": {},
     "output_type": "execute_result"
    },
    {
     "data": {
      "image/png": "[encoded data removed]",
      "text/plain": [
       "<Figure size 432x288 with 1 Axes>"
      ]
     },
     "metadata": {
      "needs_background": "light"
     },
     "output_type": "display_data"
    }
   ],
   "source": [
    "data1.plot()"
   ]
  },
  {
   "cell_type": "code",
   "execution_count": 47,
   "id": "d0acb698",
   "metadata": {},
   "outputs": [
    {
     "name": "stdout",
     "output_type": "stream",
     "text": [
      "pvalue of adfuller test is:  4.713419056092216e-09\n"
     ]
    }
   ],
   "source": [
    "from statsmodels.tsa.stattools import adfuller\n",
    "adftest = adfuller(data1)\n",
    "print('pvalue of adfuller test is: ', adftest[1])\n",
    "# < 0.05 --> stationaru\n",
    "# > 0.05 non stationary"
   ]
  },
  {
   "cell_type": "code",
   "execution_count": 48,
   "id": "6c56fcbc",
   "metadata": {},
   "outputs": [],
   "source": [
    "data2 =np.log(data)"
   ]
  },
  {
   "cell_type": "code",
   "execution_count": 49,
   "id": "547ad3af",
   "metadata": {},
   "outputs": [
    {
     "data": {
      "text/plain": [
       "<AxesSubplot:xlabel='DATE'>"
      ]
     },
     "execution_count": 49,
     "metadata": {},
     "output_type": "execute_result"
    },
    {
     "data": {
      "image/png": "[encoded data removed]",
      "text/plain": [
       "<Figure size 432x288 with 1 Axes>"
      ]
     },
     "metadata": {
      "needs_background": "light"
     },
     "output_type": "display_data"
    }
   ],
   "source": [
    "data2.plot()"
   ]
  },
  {
   "cell_type": "code",
   "execution_count": 50,
   "id": "b25ee4b9",
   "metadata": {},
   "outputs": [
    {
     "name": "stdout",
     "output_type": "stream",
     "text": [
      "pvalue of adfuller test is:  0.4872431353831758\n"
     ]
    }
   ],
   "source": [
    "from statsmodels.tsa.stattools import adfuller\n",
    "adftest = adfuller(data2)\n",
    "print('pvalue of adfuller test is: ', adftest[1])\n",
    "# < 0.05 --> stationaru\n",
    "# > 0.05 non stationary"
   ]
  },
  {
   "cell_type": "code",
   "execution_count": 51,
   "id": "438b0b0b",
   "metadata": {},
   "outputs": [],
   "source": [
    "data3 =data2.diff().dropna()"
   ]
  },
  {
   "cell_type": "code",
   "execution_count": 52,
   "id": "3d88fbfe",
   "metadata": {},
   "outputs": [
    {
     "data": {
      "text/plain": [
       "<AxesSubplot:xlabel='DATE'>"
      ]
     },
     "execution_count": 52,
     "metadata": {},
     "output_type": "execute_result"
    },
    {
     "data": {
      "image/png": "[encoded data removed]",
      "text/plain": [
       "<Figure size 432x288 with 1 Axes>"
      ]
     },
     "metadata": {
      "needs_background": "light"
     },
     "output_type": "display_data"
    }
   ],
   "source": [
    "data3.plot()"
   ]
  },
  {
   "cell_type": "code",
   "execution_count": 53,
   "id": "9fea2c22",
   "metadata": {},
   "outputs": [
    {
     "name": "stdout",
     "output_type": "stream",
     "text": [
      "pvalue of adfuller test is:  0.334096037877259\n"
     ]
    }
   ],
   "source": [
    "from statsmodels.tsa.stattools import adfuller\n",
    "adftest = adfuller(data3)\n",
    "print('pvalue of adfuller test is: ', adftest[1])\n",
    "# < 0.05 --> stationaru\n",
    "# > 0.05 non stationary"
   ]
  },
  {
   "cell_type": "code",
   "execution_count": 54,
   "id": "322a939e",
   "metadata": {},
   "outputs": [],
   "source": [
    "data4 =data.shift(1)/data"
   ]
  },
  {
   "cell_type": "code",
   "execution_count": 55,
   "id": "8c27f995",
   "metadata": {},
   "outputs": [
    {
     "data": {
      "text/plain": [
       "<AxesSubplot:xlabel='DATE'>"
      ]
     },
     "execution_count": 55,
     "metadata": {},
     "output_type": "execute_result"
    },
    {
     "data": {
      "image/png": "[encoded data removed]",
      "text/plain": [
       "<Figure size 432x288 with 1 Axes>"
      ]
     },
     "metadata": {
      "needs_background": "light"
     },
     "output_type": "display_data"
    }
   ],
   "source": [
    "data4.plot()"
   ]
  },
  {
   "cell_type": "code",
   "execution_count": 56,
   "id": "2b123dcd",
   "metadata": {},
   "outputs": [
    {
     "name": "stdout",
     "output_type": "stream",
     "text": [
      "pvalue of adfuller test is:  0.334096037877259\n"
     ]
    }
   ],
   "source": [
    "from statsmodels.tsa.stattools import adfuller\n",
    "adftest = adfuller(data3)\n",
    "print('pvalue of adfuller test is: ', adftest[1])\n",
    "# < 0.05 --> stationaru\n",
    "# > 0.05 non stationary"
   ]
  },
  {
   "cell_type": "code",
   "execution_count": 57,
   "id": "c81f6702",
   "metadata": {},
   "outputs": [],
   "source": [
    "data_log = np.sqrt(data['TOTAL CASES'])"
   ]
  },
  {
   "cell_type": "code",
   "execution_count": 58,
   "id": "cf200eb3",
   "metadata": {},
   "outputs": [],
   "source": [
    "data_diff = data_log.diff().dropna()"
   ]
  },
  {
   "cell_type": "code",
   "execution_count": 59,
   "id": "60f4ed69",
   "metadata": {},
   "outputs": [
    {
     "name": "stdout",
     "output_type": "stream",
     "text": [
      "pvalue of adfuller test is:  0.1235230196630544\n"
     ]
    }
   ],
   "source": [
    "from statsmodels.tsa.stattools import adfuller\n",
    "adftest = adfuller(data_diff)\n",
    "print('pvalue of adfuller test is: ', adftest[1])\n",
    "# < 0.05 --> stationaru\n",
    "# > 0.05 non stationary"
   ]
  },
  {
   "cell_type": "code",
   "execution_count": 60,
   "id": "a61ccc34",
   "metadata": {},
   "outputs": [
    {
     "data": {
      "text/plain": [
       "<AxesSubplot:xlabel='DATE'>"
      ]
     },
     "execution_count": 60,
     "metadata": {},
     "output_type": "execute_result"
    },
    {
     "data": {
      "image/png": "[encoded data removed]",
      "text/plain": [
       "<Figure size 432x288 with 1 Axes>"
      ]
     },
     "metadata": {
      "needs_background": "light"
     },
     "output_type": "display_data"
    }
   ],
   "source": [
    "data_diff.plot()"
   ]
  },
  {
   "cell_type": "code",
   "execution_count": 61,
   "id": "11ba5f3d",
   "metadata": {},
   "outputs": [
    {
     "data": {
      "text/plain": [
       "73"
      ]
     },
     "execution_count": 61,
     "metadata": {},
     "output_type": "execute_result"
    }
   ],
   "source": [
    "len(data_diff)"
   ]
  },
  {
   "cell_type": "code",
   "execution_count": 62,
   "id": "e308bfaa",
   "metadata": {},
   "outputs": [
    {
     "data": {
      "text/plain": [
       "DATE\n",
       "2020-03-20    16.698315\n",
       "2020-03-25    10.537072\n",
       "2020-03-30    15.158977\n",
       "2020-04-04    -8.589510\n",
       "2020-04-09     0.190080\n",
       "                ...    \n",
       "2021-02-23     6.883307\n",
       "2021-02-28    -2.115433\n",
       "2021-03-05    -0.076948\n",
       "2021-03-10     8.548341\n",
       "2021-03-15   -74.030377\n",
       "Freq: 5D, Name: TOTAL CASES, Length: 73, dtype: float64"
      ]
     },
     "execution_count": 62,
     "metadata": {},
     "output_type": "execute_result"
    }
   ],
   "source": [
    "data_diff"
   ]
  }
 ],
 "metadata": {
  "kernelspec": {
   "display_name": "Python 3 (ipykernel)",
   "language": "python",
   "name": "python3"
  },
  "language_info": {
   "codemirror_mode": {
    "name": "ipython",
    "version": 3
   },
   "file_extension": ".py",
   "mimetype": "text/x-python",
   "name": "python",
   "nbconvert_exporter": "python",
   "pygments_lexer": "ipython3",
   "version": "3.9.6"
  }
 },
 "nbformat": 4,
 "nbformat_minor": 5
}
